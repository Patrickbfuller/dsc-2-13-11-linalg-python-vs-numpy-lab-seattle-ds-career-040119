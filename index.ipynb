{
 "cells": [
  {
   "cell_type": "markdown",
   "metadata": {},
   "source": [
    "# Pure Python vs. Numpy - Lab\n",
    "\n",
    "## Introduction \n",
    "\n",
    "Numpy, Scipy and Pandas libraries provide a significant increase in computational efficiency with complex mathematical operations as compared to Python's built in arithmatic functions.  In this lab we shall calculate and compare the processing speed required for calculating a dot product both using basic arithmatic operations in Python and Numpy's `.dot()` method. \n",
    "\n",
    "## Objectives\n",
    "You will be able to:\n",
    "* Compare the performance of high dimensional matrix operations in Numpy vs. pure Python"
   ]
  },
  {
   "cell_type": "markdown",
   "metadata": {},
   "source": [
    "## Problem\n",
    "> **Write a routine to calculate the dot product between two 200 x 200 dimensional matrices using:**\n",
    "\n",
    "> **a) Pure Python**\n",
    "\n",
    "> **b) Numpy's `.dot()`**\n",
    "\n",
    "\n",
    "### Create two 200 x 200 matrices in Python and fill them with random values using `np.random.rand()` "
   ]
  },
  {
   "cell_type": "code",
   "execution_count": 4,
   "metadata": {},
   "outputs": [],
   "source": [
    "# Compare 200x200 matrix-matrix multiplication speed\n",
    "import numpy as np\n",
    "\n",
    "# Set up the variables\n",
    "A = create_rand(200,200)\n",
    "B = create_rand(200,200)"
   ]
  },
  {
   "cell_type": "code",
   "execution_count": 3,
   "metadata": {},
   "outputs": [],
   "source": [
    "def fill_rand(X):\n",
    "    m,n = X.shape\n",
    "    for i in range(m):\n",
    "        for j in range(n):\n",
    "            X[i,j] = np.random.randint(1,9)\n",
    "    return X\n",
    "def create_rand(m,n):\n",
    "    X = np.zeros((m,n))\n",
    "    return fill_rand(X)"
   ]
  },
  {
   "cell_type": "code",
   "execution_count": 36,
   "metadata": {},
   "outputs": [
    {
     "data": {
      "text/plain": [
       "array([[0.12040211, 0.49944211, 0.60788937, 0.23727822, 0.47498729,\n",
       "        0.96930934, 0.26306054, 0.22764307, 0.9816236 , 0.4654331 ,\n",
       "        0.84096366, 0.23636501, 0.83486973, 0.9028704 , 0.85000425],\n",
       "       [0.33140118, 0.85502715, 0.36275979, 0.94606322, 0.36189561,\n",
       "        0.19959829, 0.21767747, 0.09218917, 0.10004777, 0.65125328,\n",
       "        0.22359442, 0.22521265, 0.90284343, 0.96859707, 0.45386727],\n",
       "       [0.02205144, 0.48691142, 0.63760752, 0.25325524, 0.43913188,\n",
       "        0.5822424 , 0.40005279, 0.7488979 , 0.33139038, 0.26552075,\n",
       "        0.66989753, 0.83472457, 0.72164835, 0.34416784, 0.45200903],\n",
       "       [0.90269219, 0.28745047, 0.16010886, 0.11666367, 0.62591862,\n",
       "        0.17897238, 0.30756485, 0.97887495, 0.7303644 , 0.13748285,\n",
       "        0.03223771, 0.22857443, 0.41813655, 0.98939339, 0.77112265],\n",
       "       [0.01914425, 0.72114081, 0.5200087 , 0.32626883, 0.21040391,\n",
       "        0.55966494, 0.55497889, 0.74309003, 0.11966448, 0.1455128 ,\n",
       "        0.15719127, 0.47325456, 0.73891709, 0.92574897, 0.78328226],\n",
       "       [0.04294548, 0.47476798, 0.72834663, 0.02388531, 0.32830557,\n",
       "        0.95714392, 0.67730067, 0.80970127, 0.08167206, 0.22353345,\n",
       "        0.22943493, 0.37615297, 0.69181206, 0.54988723, 0.84600141],\n",
       "       [0.87206147, 0.61049433, 0.87848007, 0.87959364, 0.98251077,\n",
       "        0.77040171, 0.25930199, 0.00933841, 0.00338386, 0.83275852,\n",
       "        0.30635248, 0.02282699, 0.61788601, 0.02735986, 0.45978443],\n",
       "       [0.98221685, 0.29491985, 0.53007172, 0.03742441, 0.14237308,\n",
       "        0.3901607 , 0.49460418, 0.33068588, 0.7772987 , 0.55135159,\n",
       "        0.9550375 , 0.80430998, 0.77940418, 0.77636209, 0.15059727],\n",
       "       [0.67997696, 0.22987765, 0.05379017, 0.81968728, 0.83133928,\n",
       "        0.57100135, 0.51559412, 0.2801843 , 0.91445517, 0.10892633,\n",
       "        0.70713504, 0.00537369, 0.22019346, 0.36675622, 0.5400971 ],\n",
       "       [0.33993108, 0.16865599, 0.93406475, 0.14539758, 0.36745582,\n",
       "        0.24780317, 0.52276956, 0.11280107, 0.35318154, 0.29078312,\n",
       "        0.28596495, 0.41652462, 0.05992707, 0.14578739, 0.72057789],\n",
       "       [0.04327498, 0.69101525, 0.47049594, 0.87715064, 0.70600835,\n",
       "        0.94128012, 0.16210472, 0.77925821, 0.42639244, 0.31091342,\n",
       "        0.5249573 , 0.7535946 , 0.54926933, 0.973915  , 0.6387375 ],\n",
       "       [0.4240779 , 0.39817016, 0.68983597, 0.02290929, 0.93325919,\n",
       "        0.66445863, 0.27837785, 0.81360248, 0.13522814, 0.02027917,\n",
       "        0.54574683, 0.74924522, 0.27535576, 0.65182055, 0.86287198],\n",
       "       [0.1292088 , 0.04539698, 0.58034076, 0.7101899 , 0.44297517,\n",
       "        0.23428215, 0.8172915 , 0.38294712, 0.83709161, 0.19499107,\n",
       "        0.13696644, 0.1079445 , 0.06010073, 0.54059471, 0.71972355],\n",
       "       [0.8659376 , 0.96068759, 0.12424634, 0.86100188, 0.62112913,\n",
       "        0.27772818, 0.69450317, 0.86520067, 0.6900438 , 0.67297968,\n",
       "        0.60587186, 0.57413085, 0.70545749, 0.56037033, 0.69460766],\n",
       "       [0.43445476, 0.59508089, 0.4423379 , 0.84710805, 0.17266888,\n",
       "        0.25197243, 0.90371521, 0.37707563, 0.95711284, 0.14536628,\n",
       "        0.01824337, 0.59439799, 0.35022481, 0.05998085, 0.42434315]])"
      ]
     },
     "execution_count": 36,
     "metadata": {},
     "output_type": "execute_result"
    }
   ],
   "source": [
    "np.random.rand()"
   ]
  },
  {
   "cell_type": "markdown",
   "metadata": {},
   "source": [
    "### Pure Python\n",
    "\n",
    "* Initialize an zeros filled numpy matrix with necessary rows and columns for storing result. \n",
    "* In Python Calculate the dot product using the formula \n",
    "![](formula.png)\n",
    "* Use Python's `timeit` library to calculate the processing time. \n",
    "* [Visit this link](https://www.pythoncentral.io/time-a-python-function/) for an indepth explanation on how to time a function or routine in python. \n",
    "\n",
    "**Hint**: Use nested for loop for accessing, calculating and storing each scalar value in the result matrix."
   ]
  },
  {
   "cell_type": "code",
   "execution_count": 34,
   "metadata": {},
   "outputs": [
    {
     "name": "stdout",
     "output_type": "stream",
     "text": [
      "Pure Python Time: 0.00013125292025506496 sec.\n"
     ]
    }
   ],
   "source": [
    "import timeit\n",
    "\n",
    "# Start the timer\n",
    "start = timeit.default_timer()\n",
    "\n",
    "# Matrix multiplication in pure Python\n",
    "def matrix_multiplication(A,B):\n",
    "    assert(A.shape[1] == B.shape[0])\n",
    "    m, n = A.shape[0],B.shape[1]\n",
    "    C = np.zeros((m,n))\n",
    "    for i in range(m):\n",
    "        for j in range(n):\n",
    "            for k in range(B.shape[0]):\n",
    "                C[i,j] += A[i,k] * B[k,j]\n",
    "            \n",
    "    \n",
    "time_spent = timeit.default_timer() - start\n",
    "\n",
    "print('Pure Python Time:', time_spent, 'sec.')"
   ]
  },
  {
   "cell_type": "markdown",
   "metadata": {},
   "source": [
    "## Numpy \n",
    "Set the timer and calculate the time taken by `.dot()` function for multiplying A and B \n"
   ]
  },
  {
   "cell_type": "code",
   "execution_count": 32,
   "metadata": {},
   "outputs": [
    {
     "name": "stdout",
     "output_type": "stream",
     "text": [
      "CPU times: user 0 ns, sys: 0 ns, total: 0 ns\n",
      "Wall time: 8.58 µs\n",
      "Numpy Time: None sec.\n"
     ]
    }
   ],
   "source": [
    "# start the timer\n",
    "start = None\n",
    "\n",
    "# Matrix multiplication in numpy\n",
    "def matrix_multiplication_np(A,B):\n",
    "    assert(A.shape[1] == B.shape[0])\n",
    "    return A.dot(B)\n",
    "\n",
    "\n",
    "time_spent = %time\n",
    "print('Numpy Time:', time_spent, 'sec.')"
   ]
  },
  {
   "cell_type": "markdown",
   "metadata": {},
   "source": [
    "### Your comments "
   ]
  },
  {
   "cell_type": "markdown",
   "metadata": {},
   "source": [
    "```\n",
    "```"
   ]
  },
  {
   "cell_type": "markdown",
   "metadata": {},
   "source": [
    "## Summary\n",
    "\n",
    "In this lab, we performed a quick comparison between calculating a dot product in numpy vs python built in function. We saw that Numpy is computationally much more efficient that Python code due to highly sophisticated implementation of Numpy source code. You are encouraged to always perform such tests to fully appreciate the use of an additional library in Python. "
   ]
  }
 ],
 "metadata": {
  "kernelspec": {
   "display_name": "Python 3",
   "language": "python",
   "name": "python3"
  },
  "language_info": {
   "codemirror_mode": {
    "name": "ipython",
    "version": 3
   },
   "file_extension": ".py",
   "mimetype": "text/x-python",
   "name": "python",
   "nbconvert_exporter": "python",
   "pygments_lexer": "ipython3",
   "version": "3.6.6"
  }
 },
 "nbformat": 4,
 "nbformat_minor": 2
}
